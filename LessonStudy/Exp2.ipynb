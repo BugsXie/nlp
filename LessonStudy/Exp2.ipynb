{
 "cells": [
  {
   "cell_type": "markdown",
   "source": [
    "提取test_tOlRoBf.csv文件第二列为col2_test_tOlRoBf.csv"
   ],
   "metadata": {
    "collapsed": false
   }
  },
  {
   "cell_type": "code",
   "execution_count": 6,
   "outputs": [
    {
     "data": {
      "text/plain": "                                unique_hash  \\\n0  9e9a8166b84114aca147bf409f6f956635034c08   \n1  e747e6822c867571afe7b907b51f0f2ca67b0e1a   \n2  50b6d851bcff4f35afe354937949e9948975adf7   \n3  7f82ec2176ae6ab0b5d20b5ffc767ac829f384ae   \n4  8b37d169dee5bdae27060949242fb54feb6a7f7f   \n5  b1950d27d94ceff4e9bf8c7d1fd4b11b35ede4d7   \n6  abafc5b6c5aac6f777cf265e5c7dd80fb793e6bc   \n7  e5550693e72a8335d723ca5fc64da91e1256fb0b   \n8  ee8c500f6402331ff12b0b29d943b6d1699a0b8d   \n9  d261600ba4fc022fac12748845deed56822ff195   \n\n                                                text        drug  \n0  256 (previously stable on natalizumab), with 5...  fingolimod  \n1  On fingolimod and have been since December 201...  fingolimod  \n2  Apparently it's shingles! :-/ I do have a few ...      humira  \n3  If the Docetaxel doing once a week x3 weeks th...    tagrisso  \n4  CC, Stelara worked in a matter of days for me....     stelara  \n5  Janssen Biotech, Inc. has just received FDA ap...     stelara  \n6  I just had the, ” I thought things would be be...     ocrevus  \n7  Dec.26 2018 (Basha Fowler) I was diagnosed in ...    tagrisso  \n8  Hi, I started Gilenya about 7 weeks ago and ha...     gilenya  \n9  My uncle is still going through treatment. 2 k...    keytruda  ",
      "text/html": "<div>\n<style scoped>\n    .dataframe tbody tr th:only-of-type {\n        vertical-align: middle;\n    }\n\n    .dataframe tbody tr th {\n        vertical-align: top;\n    }\n\n    .dataframe thead th {\n        text-align: right;\n    }\n</style>\n<table border=\"1\" class=\"dataframe\">\n  <thead>\n    <tr style=\"text-align: right;\">\n      <th></th>\n      <th>unique_hash</th>\n      <th>text</th>\n      <th>drug</th>\n    </tr>\n  </thead>\n  <tbody>\n    <tr>\n      <th>0</th>\n      <td>9e9a8166b84114aca147bf409f6f956635034c08</td>\n      <td>256 (previously stable on natalizumab), with 5...</td>\n      <td>fingolimod</td>\n    </tr>\n    <tr>\n      <th>1</th>\n      <td>e747e6822c867571afe7b907b51f0f2ca67b0e1a</td>\n      <td>On fingolimod and have been since December 201...</td>\n      <td>fingolimod</td>\n    </tr>\n    <tr>\n      <th>2</th>\n      <td>50b6d851bcff4f35afe354937949e9948975adf7</td>\n      <td>Apparently it's shingles! :-/ I do have a few ...</td>\n      <td>humira</td>\n    </tr>\n    <tr>\n      <th>3</th>\n      <td>7f82ec2176ae6ab0b5d20b5ffc767ac829f384ae</td>\n      <td>If the Docetaxel doing once a week x3 weeks th...</td>\n      <td>tagrisso</td>\n    </tr>\n    <tr>\n      <th>4</th>\n      <td>8b37d169dee5bdae27060949242fb54feb6a7f7f</td>\n      <td>CC, Stelara worked in a matter of days for me....</td>\n      <td>stelara</td>\n    </tr>\n    <tr>\n      <th>5</th>\n      <td>b1950d27d94ceff4e9bf8c7d1fd4b11b35ede4d7</td>\n      <td>Janssen Biotech, Inc. has just received FDA ap...</td>\n      <td>stelara</td>\n    </tr>\n    <tr>\n      <th>6</th>\n      <td>abafc5b6c5aac6f777cf265e5c7dd80fb793e6bc</td>\n      <td>I just had the, ” I thought things would be be...</td>\n      <td>ocrevus</td>\n    </tr>\n    <tr>\n      <th>7</th>\n      <td>e5550693e72a8335d723ca5fc64da91e1256fb0b</td>\n      <td>Dec.26 2018 (Basha Fowler) I was diagnosed in ...</td>\n      <td>tagrisso</td>\n    </tr>\n    <tr>\n      <th>8</th>\n      <td>ee8c500f6402331ff12b0b29d943b6d1699a0b8d</td>\n      <td>Hi, I started Gilenya about 7 weeks ago and ha...</td>\n      <td>gilenya</td>\n    </tr>\n    <tr>\n      <th>9</th>\n      <td>d261600ba4fc022fac12748845deed56822ff195</td>\n      <td>My uncle is still going through treatment. 2 k...</td>\n      <td>keytruda</td>\n    </tr>\n  </tbody>\n</table>\n</div>"
     },
     "execution_count": 6,
     "metadata": {},
     "output_type": "execute_result"
    }
   ],
   "source": [
    "import pandas as pd\n",
    "import numpy as np\n",
    "\n",
    "data_=pd.read_csv(r'D:\\PycharmProjects\\nlp\\data\\drug_text_data\\test_tOlRoBf.csv')\n",
    "data_.head(10)"
   ],
   "metadata": {
    "collapsed": false
   }
  },
  {
   "cell_type": "code",
   "execution_count": 7,
   "outputs": [
    {
     "data": {
      "text/plain": "                                                   text\n0     256 (previously stable on natalizumab), with 5...\n1     On fingolimod and have been since December 201...\n2     Apparently it's shingles! :-/ I do have a few ...\n3     If the Docetaxel doing once a week x3 weeks th...\n4     CC, Stelara worked in a matter of days for me....\n...                                                 ...\n2919  Reply posted for Hippopostrous. We are sorry t...\n2920  Aw Lorraine That's crap. What a shame you've h...\n2921  jskozio14\\n That sounds like nonsense to me.  ...\n2922  It sounds like you're doing very well FG! I wo...\n2923  Hi @rambles too! It’s such a hard decision, is...\n\n[2924 rows x 1 columns]",
      "text/html": "<div>\n<style scoped>\n    .dataframe tbody tr th:only-of-type {\n        vertical-align: middle;\n    }\n\n    .dataframe tbody tr th {\n        vertical-align: top;\n    }\n\n    .dataframe thead th {\n        text-align: right;\n    }\n</style>\n<table border=\"1\" class=\"dataframe\">\n  <thead>\n    <tr style=\"text-align: right;\">\n      <th></th>\n      <th>text</th>\n    </tr>\n  </thead>\n  <tbody>\n    <tr>\n      <th>0</th>\n      <td>256 (previously stable on natalizumab), with 5...</td>\n    </tr>\n    <tr>\n      <th>1</th>\n      <td>On fingolimod and have been since December 201...</td>\n    </tr>\n    <tr>\n      <th>2</th>\n      <td>Apparently it's shingles! :-/ I do have a few ...</td>\n    </tr>\n    <tr>\n      <th>3</th>\n      <td>If the Docetaxel doing once a week x3 weeks th...</td>\n    </tr>\n    <tr>\n      <th>4</th>\n      <td>CC, Stelara worked in a matter of days for me....</td>\n    </tr>\n    <tr>\n      <th>...</th>\n      <td>...</td>\n    </tr>\n    <tr>\n      <th>2919</th>\n      <td>Reply posted for Hippopostrous. We are sorry t...</td>\n    </tr>\n    <tr>\n      <th>2920</th>\n      <td>Aw Lorraine That's crap. What a shame you've h...</td>\n    </tr>\n    <tr>\n      <th>2921</th>\n      <td>jskozio14\\n That sounds like nonsense to me.  ...</td>\n    </tr>\n    <tr>\n      <th>2922</th>\n      <td>It sounds like you're doing very well FG! I wo...</td>\n    </tr>\n    <tr>\n      <th>2923</th>\n      <td>Hi @rambles too! It’s such a hard decision, is...</td>\n    </tr>\n  </tbody>\n</table>\n<p>2924 rows × 1 columns</p>\n</div>"
     },
     "execution_count": 7,
     "metadata": {},
     "output_type": "execute_result"
    }
   ],
   "source": [
    "data_1=data_.loc[:,['text']]\n",
    "data_.loc[:,['text']]"
   ],
   "metadata": {
    "collapsed": false
   }
  },
  {
   "cell_type": "code",
   "execution_count": 8,
   "outputs": [],
   "source": [
    "data_1.to_csv(r'D:\\PycharmProjects\\nlp\\data\\drug_text_data\\col2_test_tOlRoBf.csv')"
   ],
   "metadata": {
    "collapsed": false
   }
  },
  {
   "cell_type": "markdown",
   "source": [
    "训练测试一下"
   ],
   "metadata": {
    "collapsed": false
   }
  },
  {
   "cell_type": "code",
   "execution_count": 9,
   "outputs": [],
   "source": [
    "from tokenizers import Tokenizer\n",
    "from tokenizers.models import BPE\n",
    "from tokenizers.pre_tokenizers import Whitespace\n",
    "from tokenizers.trainers import BpeTrainer\n",
    "\n",
    "tokenizer = Tokenizer(BPE())\n",
    "tokenizer.pre_tokenizer = Whitespace()\n",
    "trainer = BpeTrainer(special_tokens=[\"[UNK]\", \"[CLS]\", \"[SEP]\", \"[PAD]\", \"[MASK]\"])\n",
    "tokenizer.train(files=[r'D:\\PycharmProjects\\nlp\\data\\drug_text_data\\col2_test_tOlRoBf.csv'], trainer=trainer)"
   ],
   "metadata": {
    "collapsed": false
   }
  },
  {
   "cell_type": "code",
   "execution_count": 10,
   "outputs": [
    {
     "name": "stdout",
     "output_type": "stream",
     "text": [
      "['whe', 'there', 're', 'rer', 'the', 'intellectual']\n"
     ]
    }
   ],
   "source": [
    "print(tokenizer.encode(\"whetherererer the intellectual\").tokens)"
   ],
   "metadata": {
    "collapsed": false
   }
  },
  {
   "cell_type": "code",
   "execution_count": 11,
   "outputs": [],
   "source": [
    "# word_tokenize(\"\")"
   ],
   "metadata": {
    "collapsed": false
   }
  },
  {
   "cell_type": "code",
   "execution_count": 11,
   "outputs": [],
   "source": [],
   "metadata": {
    "collapsed": false
   }
  }
 ],
 "metadata": {
  "kernelspec": {
   "display_name": "Python 3",
   "language": "python",
   "name": "python3"
  },
  "language_info": {
   "codemirror_mode": {
    "name": "ipython",
    "version": 2
   },
   "file_extension": ".py",
   "mimetype": "text/x-python",
   "name": "python",
   "nbconvert_exporter": "python",
   "pygments_lexer": "ipython2",
   "version": "2.7.6"
  }
 },
 "nbformat": 4,
 "nbformat_minor": 0
}
