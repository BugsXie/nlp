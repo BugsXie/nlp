{
 "cells": [
  {
   "cell_type": "code",
   "execution_count": 1,
   "metadata": {
    "collapsed": true,
    "ExecuteTime": {
     "start_time": "2023-04-26T14:45:51.964886Z",
     "end_time": "2023-04-26T14:45:53.124107Z"
    }
   },
   "outputs": [],
   "source": [
    "import gensim\n",
    "import matplotlib.pyplot as plt\n",
    "\n",
    "text_file_name = r'D:\\PycharmProjects\\nlp\\data\\wikipedia_smaller\\wikipedia.txt'\n",
    "sentences = gensim.models.word2vec.LineSentence(text_file_name, limit=100000)"
   ]
  },
  {
   "cell_type": "code",
   "execution_count": 2,
   "outputs": [],
   "source": [
    "simple_model = gensim.models.Word2Vec(\n",
    "    sentences=sentences,\n",
    "    vector_size=10,\n",
    "    window=5,\n",
    "    min_count=5,\n",
    "    workers=16\n",
    ")\n",
    "word_vectors = simple_model.wv"
   ],
   "metadata": {
    "collapsed": false,
    "ExecuteTime": {
     "start_time": "2023-04-26T14:45:53.130284Z",
     "end_time": "2023-04-26T14:46:03.840945Z"
    }
   }
  },
  {
   "cell_type": "code",
   "execution_count": 3,
   "outputs": [],
   "source": [
    "simple_model.save(r'D:\\PycharmProjects\\nlp\\models\\word2vec.model')"
   ],
   "metadata": {
    "collapsed": false,
    "ExecuteTime": {
     "start_time": "2023-04-26T14:46:03.848091Z",
     "end_time": "2023-04-26T14:46:03.880420Z"
    }
   }
  },
  {
   "cell_type": "code",
   "execution_count": 4,
   "outputs": [],
   "source": [
    "simple_model.wv.save_word2vec_format(r'D:\\PycharmProjects\\nlp\\models\\wor2vec.vector')"
   ],
   "metadata": {
    "collapsed": false,
    "ExecuteTime": {
     "start_time": "2023-04-26T14:46:03.877422Z",
     "end_time": "2023-04-26T14:46:04.197576Z"
    }
   }
  },
  {
   "cell_type": "code",
   "execution_count": 5,
   "outputs": [],
   "source": [
    "from gensim.models import KeyedVectors"
   ],
   "metadata": {
    "collapsed": false,
    "ExecuteTime": {
     "start_time": "2023-04-26T14:46:04.200707Z",
     "end_time": "2023-04-26T14:46:04.211796Z"
    }
   }
  },
  {
   "cell_type": "code",
   "execution_count": 6,
   "outputs": [],
   "source": [
    "model = KeyedVectors.load_word2vec_format(r\"D:\\PycharmProjects\\nlp\\models\\word2vec.vector\")"
   ],
   "metadata": {
    "collapsed": false,
    "ExecuteTime": {
     "start_time": "2023-04-26T14:46:04.215855Z",
     "end_time": "2023-04-26T14:46:04.721481Z"
    }
   }
  },
  {
   "cell_type": "code",
   "execution_count": 7,
   "outputs": [
    {
     "data": {
      "text/plain": "(array([-3.8353262 ,  1.0176698 ,  2.8540537 , -2.0655336 , -2.1362255 ,\n        -0.7057722 , -0.35073763,  1.3984054 , -3.0641723 ,  0.51678205],\n       dtype=float32),\n array([-4.70293   ,  0.94848865,  1.8977497 , -1.5559598 , -3.105619  ,\n        -0.8486422 , -1.0405989 ,  1.4820622 , -4.904329  , -0.34337825],\n       dtype=float32))"
     },
     "execution_count": 7,
     "metadata": {},
     "output_type": "execute_result"
    }
   ],
   "source": [
    "model[\"america\"], model[\"africa\"]"
   ],
   "metadata": {
    "collapsed": false,
    "ExecuteTime": {
     "start_time": "2023-04-26T14:46:04.729620Z",
     "end_time": "2023-04-26T14:46:04.737855Z"
    }
   }
  },
  {
   "cell_type": "code",
   "execution_count": 8,
   "outputs": [
    {
     "name": "stdout",
     "output_type": "stream",
     "text": [
      "0.8608184\n"
     ]
    }
   ],
   "source": [
    "print(word_vectors.similarity(\"cat\", \"dog\"))"
   ],
   "metadata": {
    "collapsed": false,
    "ExecuteTime": {
     "start_time": "2023-04-26T14:46:04.741944Z",
     "end_time": "2023-04-26T14:46:04.770355Z"
    }
   }
  },
  {
   "cell_type": "code",
   "execution_count": 9,
   "outputs": [
    {
     "data": {
      "text/plain": "[('father', 0.9705491065979004),\n ('wife', 0.9560631513595581),\n ('augustus', 0.949935257434845),\n ('daughter', 0.9496829509735107),\n ('mother', 0.9323728084564209),\n ('ibsen', 0.9167603254318237),\n ('king', 0.9150454998016357),\n ('abraham', 0.9096086025238037),\n ('lord', 0.9071180820465088),\n ('brother', 0.9054712653160095)]"
     },
     "execution_count": 9,
     "metadata": {},
     "output_type": "execute_result"
    }
   ],
   "source": [
    "word_vectors.most_similar(\"son\")"
   ],
   "metadata": {
    "collapsed": false,
    "ExecuteTime": {
     "start_time": "2023-04-26T14:46:04.756057Z",
     "end_time": "2023-04-26T14:46:04.787590Z"
    }
   }
  },
  {
   "cell_type": "code",
   "execution_count": 10,
   "outputs": [],
   "source": [
    "def analogy(model, x1, x2, y1):\n",
    "    result = model.most_similar(positive=[y1, x2], negative=[x1])\n",
    "    return result[0][0]"
   ],
   "metadata": {
    "collapsed": false,
    "ExecuteTime": {
     "start_time": "2023-04-26T14:46:04.791643Z",
     "end_time": "2023-04-26T14:46:04.853667Z"
    }
   }
  },
  {
   "cell_type": "code",
   "execution_count": 13,
   "outputs": [],
   "source": [
    "import gensim.downloader\n",
    "gensim_builtin_glove_model = gensim.downloader.load(name=\"glove-wiki-gigaword-50\")"
   ],
   "metadata": {
    "collapsed": false,
    "ExecuteTime": {
     "start_time": "2023-04-26T14:55:35.352437Z",
     "end_time": "2023-04-26T14:55:53.728498Z"
    }
   }
  },
  {
   "cell_type": "code",
   "execution_count": 14,
   "outputs": [],
   "source": [
    "gensim_builtin_glove_model.save(r\"D:\\PycharmProjects\\nlp\\models\\glove-wiki-gigaword-50\")"
   ],
   "metadata": {
    "collapsed": false,
    "ExecuteTime": {
     "start_time": "2023-04-26T14:55:53.728498Z",
     "end_time": "2023-04-26T14:55:53.947728Z"
    }
   }
  },
  {
   "cell_type": "markdown",
   "source": [
    "## To exemplify, this model can also handle the analogies:"
   ],
   "metadata": {
    "collapsed": false
   }
  },
  {
   "cell_type": "code",
   "execution_count": null,
   "outputs": [],
   "source": [
    "analogy(gensim_builtin_glove_model, 'woman', 'king', 'man')"
   ],
   "metadata": {
    "collapsed": false
   }
  },
  {
   "cell_type": "code",
   "execution_count": null,
   "outputs": [],
   "source": [],
   "metadata": {
    "collapsed": false
   }
  },
  {
   "cell_type": "code",
   "execution_count": null,
   "outputs": [],
   "source": [
    "from sklearn.decomposition import TruncatedSVD\n",
    "from sklearn.manifold import TSNE, MDS\n",
    "def plot_embeddings_pca(embedding_model, words):\n",
    "    example_vectors = embedding_model[words]\n",
    "    example_vectors -= example_vectors.mean(axis=0)\n",
    "    twodim = TruncatedSVD(n_components=2).fit_transform(example_vectors)\n",
    "\n",
    "    plt.figure(figsize=(5, 5))\n",
    "    plt.scatter(twodim[:, 0], twodim[:, 1], edgecolors='k', c='r')\n",
    "    for word, (x, y) in zip(words, twodim):\n",
    "        plt.text(x+0.02, y, word)\n",
    "    plt.axis('off')"
   ],
   "metadata": {
    "collapsed": false
   }
  }
 ],
 "metadata": {
  "kernelspec": {
   "display_name": "Python 3",
   "language": "python",
   "name": "python3"
  },
  "language_info": {
   "codemirror_mode": {
    "name": "ipython",
    "version": 2
   },
   "file_extension": ".py",
   "mimetype": "text/x-python",
   "name": "python",
   "nbconvert_exporter": "python",
   "pygments_lexer": "ipython2",
   "version": "2.7.6"
  }
 },
 "nbformat": 4,
 "nbformat_minor": 0
}
